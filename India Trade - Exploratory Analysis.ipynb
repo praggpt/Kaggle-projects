{
 "cells": [
  {
   "cell_type": "code",
   "execution_count": 12,
   "metadata": {},
   "outputs": [],
   "source": [
    "import pandas as pd\n",
    "import numpy as np\n",
    "import matplotlib.pyplot as plt\n",
    "%matplotlib inline"
   ]
  },
  {
   "cell_type": "code",
   "execution_count": 2,
   "metadata": {},
   "outputs": [],
   "source": [
    "import_data = pd.read_csv('Import.csv')\n",
    "export_data = pd.read_csv('Export.csv')"
   ]
  },
  {
   "cell_type": "code",
   "execution_count": 3,
   "metadata": {},
   "outputs": [
    {
     "data": {
      "text/html": [
       "<div>\n",
       "<style scoped>\n",
       "    .dataframe tbody tr th:only-of-type {\n",
       "        vertical-align: middle;\n",
       "    }\n",
       "\n",
       "    .dataframe tbody tr th {\n",
       "        vertical-align: top;\n",
       "    }\n",
       "\n",
       "    .dataframe thead th {\n",
       "        text-align: right;\n",
       "    }\n",
       "</style>\n",
       "<table border=\"1\" class=\"dataframe\">\n",
       "  <thead>\n",
       "    <tr style=\"text-align: right;\">\n",
       "      <th></th>\n",
       "      <th>Unnamed: 0</th>\n",
       "      <th>HSCODE</th>\n",
       "      <th>COMMODITY</th>\n",
       "      <th>VALUE</th>\n",
       "      <th>COUNTRY</th>\n",
       "      <th>YEAR</th>\n",
       "    </tr>\n",
       "  </thead>\n",
       "  <tbody>\n",
       "    <tr>\n",
       "      <th>0</th>\n",
       "      <td>1</td>\n",
       "      <td>7</td>\n",
       "      <td>EDIBLE VEGETABLES AND CERTAIN ROOTS AND TUBERS.</td>\n",
       "      <td>12.38</td>\n",
       "      <td>AFGHANISTAN TIS</td>\n",
       "      <td>2018</td>\n",
       "    </tr>\n",
       "    <tr>\n",
       "      <th>1</th>\n",
       "      <td>2</td>\n",
       "      <td>8</td>\n",
       "      <td>EDIBLE FRUIT AND NUTS; PEEL OR CITRUS FRUIT OR...</td>\n",
       "      <td>268.60</td>\n",
       "      <td>AFGHANISTAN TIS</td>\n",
       "      <td>2018</td>\n",
       "    </tr>\n",
       "    <tr>\n",
       "      <th>2</th>\n",
       "      <td>3</td>\n",
       "      <td>9</td>\n",
       "      <td>COFFEE, TEA, MATE AND SPICES.</td>\n",
       "      <td>35.48</td>\n",
       "      <td>AFGHANISTAN TIS</td>\n",
       "      <td>2018</td>\n",
       "    </tr>\n",
       "    <tr>\n",
       "      <th>3</th>\n",
       "      <td>5</td>\n",
       "      <td>12</td>\n",
       "      <td>OIL SEEDS AND OLEA. FRUITS; MISC. GRAINS, SEED...</td>\n",
       "      <td>8.32</td>\n",
       "      <td>AFGHANISTAN TIS</td>\n",
       "      <td>2018</td>\n",
       "    </tr>\n",
       "    <tr>\n",
       "      <th>4</th>\n",
       "      <td>6</td>\n",
       "      <td>13</td>\n",
       "      <td>LAC; GUMS, RESINS AND OTHER VEGETABLE SAPS AND...</td>\n",
       "      <td>108.78</td>\n",
       "      <td>AFGHANISTAN TIS</td>\n",
       "      <td>2018</td>\n",
       "    </tr>\n",
       "  </tbody>\n",
       "</table>\n",
       "</div>"
      ],
      "text/plain": [
       "   Unnamed: 0  HSCODE                                          COMMODITY  \\\n",
       "0           1       7    EDIBLE VEGETABLES AND CERTAIN ROOTS AND TUBERS.   \n",
       "1           2       8  EDIBLE FRUIT AND NUTS; PEEL OR CITRUS FRUIT OR...   \n",
       "2           3       9                      COFFEE, TEA, MATE AND SPICES.   \n",
       "3           5      12  OIL SEEDS AND OLEA. FRUITS; MISC. GRAINS, SEED...   \n",
       "4           6      13  LAC; GUMS, RESINS AND OTHER VEGETABLE SAPS AND...   \n",
       "\n",
       "    VALUE          COUNTRY  YEAR  \n",
       "0   12.38  AFGHANISTAN TIS  2018  \n",
       "1  268.60  AFGHANISTAN TIS  2018  \n",
       "2   35.48  AFGHANISTAN TIS  2018  \n",
       "3    8.32  AFGHANISTAN TIS  2018  \n",
       "4  108.78  AFGHANISTAN TIS  2018  "
      ]
     },
     "execution_count": 3,
     "metadata": {},
     "output_type": "execute_result"
    }
   ],
   "source": [
    "import_data.head()"
   ]
  },
  {
   "cell_type": "code",
   "execution_count": 4,
   "metadata": {},
   "outputs": [
    {
     "data": {
      "text/html": [
       "<div>\n",
       "<style scoped>\n",
       "    .dataframe tbody tr th:only-of-type {\n",
       "        vertical-align: middle;\n",
       "    }\n",
       "\n",
       "    .dataframe tbody tr th {\n",
       "        vertical-align: top;\n",
       "    }\n",
       "\n",
       "    .dataframe thead th {\n",
       "        text-align: right;\n",
       "    }\n",
       "</style>\n",
       "<table border=\"1\" class=\"dataframe\">\n",
       "  <thead>\n",
       "    <tr style=\"text-align: right;\">\n",
       "      <th></th>\n",
       "      <th>Unnamed: 0</th>\n",
       "      <th>HSCODE</th>\n",
       "      <th>COMMODITY</th>\n",
       "      <th>VALUE</th>\n",
       "      <th>COUNTRY</th>\n",
       "      <th>YEAR</th>\n",
       "    </tr>\n",
       "  </thead>\n",
       "  <tbody>\n",
       "    <tr>\n",
       "      <th>0</th>\n",
       "      <td>0</td>\n",
       "      <td>2</td>\n",
       "      <td>MEAT AND EDIBLE MEAT OFFAL.</td>\n",
       "      <td>0.18</td>\n",
       "      <td>AFGHANISTAN TIS</td>\n",
       "      <td>2018</td>\n",
       "    </tr>\n",
       "    <tr>\n",
       "      <th>1</th>\n",
       "      <td>2</td>\n",
       "      <td>4</td>\n",
       "      <td>DAIRY PRODUCE; BIRDS' EGGS; NATURAL HONEY; EDI...</td>\n",
       "      <td>12.48</td>\n",
       "      <td>AFGHANISTAN TIS</td>\n",
       "      <td>2018</td>\n",
       "    </tr>\n",
       "    <tr>\n",
       "      <th>2</th>\n",
       "      <td>4</td>\n",
       "      <td>7</td>\n",
       "      <td>EDIBLE VEGETABLES AND CERTAIN ROOTS AND TUBERS.</td>\n",
       "      <td>1.89</td>\n",
       "      <td>AFGHANISTAN TIS</td>\n",
       "      <td>2018</td>\n",
       "    </tr>\n",
       "    <tr>\n",
       "      <th>3</th>\n",
       "      <td>5</td>\n",
       "      <td>8</td>\n",
       "      <td>EDIBLE FRUIT AND NUTS; PEEL OR CITRUS FRUIT OR...</td>\n",
       "      <td>25.01</td>\n",
       "      <td>AFGHANISTAN TIS</td>\n",
       "      <td>2018</td>\n",
       "    </tr>\n",
       "    <tr>\n",
       "      <th>4</th>\n",
       "      <td>6</td>\n",
       "      <td>9</td>\n",
       "      <td>COFFEE, TEA, MATE AND SPICES.</td>\n",
       "      <td>13.75</td>\n",
       "      <td>AFGHANISTAN TIS</td>\n",
       "      <td>2018</td>\n",
       "    </tr>\n",
       "  </tbody>\n",
       "</table>\n",
       "</div>"
      ],
      "text/plain": [
       "   Unnamed: 0  HSCODE                                          COMMODITY  \\\n",
       "0           0       2                        MEAT AND EDIBLE MEAT OFFAL.   \n",
       "1           2       4  DAIRY PRODUCE; BIRDS' EGGS; NATURAL HONEY; EDI...   \n",
       "2           4       7    EDIBLE VEGETABLES AND CERTAIN ROOTS AND TUBERS.   \n",
       "3           5       8  EDIBLE FRUIT AND NUTS; PEEL OR CITRUS FRUIT OR...   \n",
       "4           6       9                      COFFEE, TEA, MATE AND SPICES.   \n",
       "\n",
       "   VALUE          COUNTRY  YEAR  \n",
       "0   0.18  AFGHANISTAN TIS  2018  \n",
       "1  12.48  AFGHANISTAN TIS  2018  \n",
       "2   1.89  AFGHANISTAN TIS  2018  \n",
       "3  25.01  AFGHANISTAN TIS  2018  \n",
       "4  13.75  AFGHANISTAN TIS  2018  "
      ]
     },
     "execution_count": 4,
     "metadata": {},
     "output_type": "execute_result"
    }
   ],
   "source": [
    "export_data.head()"
   ]
  },
  {
   "cell_type": "code",
   "execution_count": 5,
   "metadata": {},
   "outputs": [
    {
     "data": {
      "text/html": [
       "<div>\n",
       "<style scoped>\n",
       "    .dataframe tbody tr th:only-of-type {\n",
       "        vertical-align: middle;\n",
       "    }\n",
       "\n",
       "    .dataframe tbody tr th {\n",
       "        vertical-align: top;\n",
       "    }\n",
       "\n",
       "    .dataframe thead th {\n",
       "        text-align: right;\n",
       "    }\n",
       "</style>\n",
       "<table border=\"1\" class=\"dataframe\">\n",
       "  <thead>\n",
       "    <tr style=\"text-align: right;\">\n",
       "      <th></th>\n",
       "      <th>Unnamed: 0</th>\n",
       "      <th>HSCODE</th>\n",
       "      <th>VALUE</th>\n",
       "      <th>YEAR</th>\n",
       "    </tr>\n",
       "  </thead>\n",
       "  <tbody>\n",
       "    <tr>\n",
       "      <th>count</th>\n",
       "      <td>54554.000000</td>\n",
       "      <td>54554.000000</td>\n",
       "      <td>54554.000000</td>\n",
       "      <td>54554.000000</td>\n",
       "    </tr>\n",
       "    <tr>\n",
       "      <th>mean</th>\n",
       "      <td>51272.969406</td>\n",
       "      <td>53.173901</td>\n",
       "      <td>72.382263</td>\n",
       "      <td>2014.009440</td>\n",
       "    </tr>\n",
       "    <tr>\n",
       "      <th>std</th>\n",
       "      <td>27878.217635</td>\n",
       "      <td>27.201885</td>\n",
       "      <td>720.148770</td>\n",
       "      <td>2.613452</td>\n",
       "    </tr>\n",
       "    <tr>\n",
       "      <th>min</th>\n",
       "      <td>1.000000</td>\n",
       "      <td>1.000000</td>\n",
       "      <td>0.010000</td>\n",
       "      <td>2010.000000</td>\n",
       "    </tr>\n",
       "    <tr>\n",
       "      <th>25%</th>\n",
       "      <td>35524.500000</td>\n",
       "      <td>29.000000</td>\n",
       "      <td>0.080000</td>\n",
       "      <td>2012.000000</td>\n",
       "    </tr>\n",
       "    <tr>\n",
       "      <th>50%</th>\n",
       "      <td>55410.500000</td>\n",
       "      <td>53.000000</td>\n",
       "      <td>0.720000</td>\n",
       "      <td>2014.000000</td>\n",
       "    </tr>\n",
       "    <tr>\n",
       "      <th>75%</th>\n",
       "      <td>74615.500000</td>\n",
       "      <td>76.000000</td>\n",
       "      <td>7.187500</td>\n",
       "      <td>2016.000000</td>\n",
       "    </tr>\n",
       "    <tr>\n",
       "      <th>max</th>\n",
       "      <td>93090.000000</td>\n",
       "      <td>99.000000</td>\n",
       "      <td>32781.570000</td>\n",
       "      <td>2018.000000</td>\n",
       "    </tr>\n",
       "  </tbody>\n",
       "</table>\n",
       "</div>"
      ],
      "text/plain": [
       "         Unnamed: 0        HSCODE         VALUE          YEAR\n",
       "count  54554.000000  54554.000000  54554.000000  54554.000000\n",
       "mean   51272.969406     53.173901     72.382263   2014.009440\n",
       "std    27878.217635     27.201885    720.148770      2.613452\n",
       "min        1.000000      1.000000      0.010000   2010.000000\n",
       "25%    35524.500000     29.000000      0.080000   2012.000000\n",
       "50%    55410.500000     53.000000      0.720000   2014.000000\n",
       "75%    74615.500000     76.000000      7.187500   2016.000000\n",
       "max    93090.000000     99.000000  32781.570000   2018.000000"
      ]
     },
     "execution_count": 5,
     "metadata": {},
     "output_type": "execute_result"
    }
   ],
   "source": [
    "import_data.describe()"
   ]
  },
  {
   "cell_type": "code",
   "execution_count": 6,
   "metadata": {},
   "outputs": [
    {
     "data": {
      "text/html": [
       "<div>\n",
       "<style scoped>\n",
       "    .dataframe tbody tr th:only-of-type {\n",
       "        vertical-align: middle;\n",
       "    }\n",
       "\n",
       "    .dataframe tbody tr th {\n",
       "        vertical-align: top;\n",
       "    }\n",
       "\n",
       "    .dataframe thead th {\n",
       "        text-align: right;\n",
       "    }\n",
       "</style>\n",
       "<table border=\"1\" class=\"dataframe\">\n",
       "  <thead>\n",
       "    <tr style=\"text-align: right;\">\n",
       "      <th></th>\n",
       "      <th>Unnamed: 0</th>\n",
       "      <th>HSCODE</th>\n",
       "      <th>VALUE</th>\n",
       "      <th>YEAR</th>\n",
       "    </tr>\n",
       "  </thead>\n",
       "  <tbody>\n",
       "    <tr>\n",
       "      <th>count</th>\n",
       "      <td>106590.000000</td>\n",
       "      <td>106590.000000</td>\n",
       "      <td>106590.00000</td>\n",
       "      <td>106590.000000</td>\n",
       "    </tr>\n",
       "    <tr>\n",
       "      <th>mean</th>\n",
       "      <td>68578.386706</td>\n",
       "      <td>50.630847</td>\n",
       "      <td>24.30115</td>\n",
       "      <td>2014.055756</td>\n",
       "    </tr>\n",
       "    <tr>\n",
       "      <th>std</th>\n",
       "      <td>39538.876518</td>\n",
       "      <td>27.471210</td>\n",
       "      <td>239.89897</td>\n",
       "      <td>2.578724</td>\n",
       "    </tr>\n",
       "    <tr>\n",
       "      <th>min</th>\n",
       "      <td>0.000000</td>\n",
       "      <td>1.000000</td>\n",
       "      <td>0.01000</td>\n",
       "      <td>2010.000000</td>\n",
       "    </tr>\n",
       "    <tr>\n",
       "      <th>25%</th>\n",
       "      <td>34316.000000</td>\n",
       "      <td>28.000000</td>\n",
       "      <td>0.08000</td>\n",
       "      <td>2012.000000</td>\n",
       "    </tr>\n",
       "    <tr>\n",
       "      <th>50%</th>\n",
       "      <td>68639.500000</td>\n",
       "      <td>52.000000</td>\n",
       "      <td>0.66000</td>\n",
       "      <td>2014.000000</td>\n",
       "    </tr>\n",
       "    <tr>\n",
       "      <th>75%</th>\n",
       "      <td>102842.750000</td>\n",
       "      <td>73.000000</td>\n",
       "      <td>5.23750</td>\n",
       "      <td>2016.000000</td>\n",
       "    </tr>\n",
       "    <tr>\n",
       "      <th>max</th>\n",
       "      <td>137022.000000</td>\n",
       "      <td>99.000000</td>\n",
       "      <td>19805.17000</td>\n",
       "      <td>2018.000000</td>\n",
       "    </tr>\n",
       "  </tbody>\n",
       "</table>\n",
       "</div>"
      ],
      "text/plain": [
       "          Unnamed: 0         HSCODE         VALUE           YEAR\n",
       "count  106590.000000  106590.000000  106590.00000  106590.000000\n",
       "mean    68578.386706      50.630847      24.30115    2014.055756\n",
       "std     39538.876518      27.471210     239.89897       2.578724\n",
       "min         0.000000       1.000000       0.01000    2010.000000\n",
       "25%     34316.000000      28.000000       0.08000    2012.000000\n",
       "50%     68639.500000      52.000000       0.66000    2014.000000\n",
       "75%    102842.750000      73.000000       5.23750    2016.000000\n",
       "max    137022.000000      99.000000   19805.17000    2018.000000"
      ]
     },
     "execution_count": 6,
     "metadata": {},
     "output_type": "execute_result"
    }
   ],
   "source": [
    "export_data.describe()"
   ]
  },
  {
   "cell_type": "markdown",
   "metadata": {},
   "source": [
    "### How many commodities do we trade?"
   ]
  },
  {
   "cell_type": "code",
   "execution_count": 7,
   "metadata": {},
   "outputs": [
    {
     "data": {
      "text/plain": [
       "98"
      ]
     },
     "execution_count": 7,
     "metadata": {},
     "output_type": "execute_result"
    }
   ],
   "source": [
    "len(import_data['COMMODITY'].unique())"
   ]
  },
  {
   "cell_type": "code",
   "execution_count": 8,
   "metadata": {},
   "outputs": [
    {
     "data": {
      "text/plain": [
       "98"
      ]
     },
     "execution_count": 8,
     "metadata": {},
     "output_type": "execute_result"
    }
   ],
   "source": [
    "len(export_data['COMMODITY'].unique())"
   ]
  },
  {
   "cell_type": "code",
   "execution_count": 9,
   "metadata": {},
   "outputs": [
    {
     "data": {
      "text/plain": [
       "ELECTRICAL MACHINERY AND EQUIPMENT AND PARTS THEREOF; SOUND RECORDERS AND REPRODUCERS, TELEVISION IMAGE AND SOUND RECORDERS AND REPRODUCERS,AND PARTS.    1378\n",
       "IRON AND STEEL                                                                                                                                            1333\n",
       "NUCLEAR REACTORS, BOILERS, MACHINERY AND MECHANICAL APPLIANCES; PARTS THEREOF.                                                                            1314\n",
       "ALUMINIUM AND ARTICLES THEREOF.                                                                                                                           1217\n",
       "PLASTIC AND ARTICLES THEREOF.                                                                                                                             1112\n",
       "Name: COMMODITY, dtype: int64"
      ]
     },
     "execution_count": 9,
     "metadata": {},
     "output_type": "execute_result"
    }
   ],
   "source": [
    "import_data['COMMODITY'].value_counts().head()"
   ]
  },
  {
   "cell_type": "markdown",
   "metadata": {},
   "source": [
    "### Who are our top trading partners?"
   ]
  },
  {
   "cell_type": "code",
   "execution_count": 13,
   "metadata": {},
   "outputs": [
    {
     "data": {
      "text/html": [
       "<div>\n",
       "<style scoped>\n",
       "    .dataframe tbody tr th:only-of-type {\n",
       "        vertical-align: middle;\n",
       "    }\n",
       "\n",
       "    .dataframe tbody tr th {\n",
       "        vertical-align: top;\n",
       "    }\n",
       "\n",
       "    .dataframe thead th {\n",
       "        text-align: right;\n",
       "    }\n",
       "</style>\n",
       "<table border=\"1\" class=\"dataframe\">\n",
       "  <thead>\n",
       "    <tr style=\"text-align: right;\">\n",
       "      <th></th>\n",
       "      <th>VALUE</th>\n",
       "    </tr>\n",
       "    <tr>\n",
       "      <th>COUNTRY</th>\n",
       "      <th></th>\n",
       "    </tr>\n",
       "  </thead>\n",
       "  <tbody>\n",
       "    <tr>\n",
       "      <th>CHINA P RP</th>\n",
       "      <td>532177.51</td>\n",
       "    </tr>\n",
       "    <tr>\n",
       "      <th>U ARAB EMTS</th>\n",
       "      <td>256286.08</td>\n",
       "    </tr>\n",
       "    <tr>\n",
       "      <th>SAUDI ARAB</th>\n",
       "      <td>241554.99</td>\n",
       "    </tr>\n",
       "    <tr>\n",
       "      <th>U S A</th>\n",
       "      <td>219276.66</td>\n",
       "    </tr>\n",
       "    <tr>\n",
       "      <th>SWITZERLAND</th>\n",
       "      <td>206729.03</td>\n",
       "    </tr>\n",
       "    <tr>\n",
       "      <th>IRAQ</th>\n",
       "      <td>142476.32</td>\n",
       "    </tr>\n",
       "    <tr>\n",
       "      <th>INDONESIA</th>\n",
       "      <td>128164.40</td>\n",
       "    </tr>\n",
       "    <tr>\n",
       "      <th>KOREA RP</th>\n",
       "      <td>121143.58</td>\n",
       "    </tr>\n",
       "    <tr>\n",
       "      <th>GERMANY</th>\n",
       "      <td>119664.64</td>\n",
       "    </tr>\n",
       "    <tr>\n",
       "      <th>AUSTRALIA</th>\n",
       "      <td>106700.24</td>\n",
       "    </tr>\n",
       "    <tr>\n",
       "      <th>NIGERIA</th>\n",
       "      <td>103406.98</td>\n",
       "    </tr>\n",
       "    <tr>\n",
       "      <th>QATAR</th>\n",
       "      <td>101540.83</td>\n",
       "    </tr>\n",
       "    <tr>\n",
       "      <th>KUWAIT</th>\n",
       "      <td>97905.36</td>\n",
       "    </tr>\n",
       "    <tr>\n",
       "      <th>IRAN</th>\n",
       "      <td>96997.19</td>\n",
       "    </tr>\n",
       "    <tr>\n",
       "      <th>JAPAN</th>\n",
       "      <td>96004.66</td>\n",
       "    </tr>\n",
       "    <tr>\n",
       "      <th>MALAYSIA</th>\n",
       "      <td>84142.18</td>\n",
       "    </tr>\n",
       "    <tr>\n",
       "      <th>HONG KONG</th>\n",
       "      <td>83542.74</td>\n",
       "    </tr>\n",
       "    <tr>\n",
       "      <th>BELGIUM</th>\n",
       "      <td>81957.95</td>\n",
       "    </tr>\n",
       "    <tr>\n",
       "      <th>VENEZUELA</th>\n",
       "      <td>76003.71</td>\n",
       "    </tr>\n",
       "    <tr>\n",
       "      <th>SINGAPORE</th>\n",
       "      <td>75043.09</td>\n",
       "    </tr>\n",
       "  </tbody>\n",
       "</table>\n",
       "</div>"
      ],
      "text/plain": [
       "                 VALUE\n",
       "COUNTRY               \n",
       "CHINA P RP   532177.51\n",
       "U ARAB EMTS  256286.08\n",
       "SAUDI ARAB   241554.99\n",
       "U S A        219276.66\n",
       "SWITZERLAND  206729.03\n",
       "IRAQ         142476.32\n",
       "INDONESIA    128164.40\n",
       "KOREA RP     121143.58\n",
       "GERMANY      119664.64\n",
       "AUSTRALIA    106700.24\n",
       "NIGERIA      103406.98\n",
       "QATAR        101540.83\n",
       "KUWAIT        97905.36\n",
       "IRAN          96997.19\n",
       "JAPAN         96004.66\n",
       "MALAYSIA      84142.18\n",
       "HONG KONG     83542.74\n",
       "BELGIUM       81957.95\n",
       "VENEZUELA     76003.71\n",
       "SINGAPORE     75043.09"
      ]
     },
     "execution_count": 13,
     "metadata": {},
     "output_type": "execute_result"
    }
   ],
   "source": [
    "import_country = import_data.groupby('COUNTRY').agg({'VALUE':'sum'}).sort_values(by='VALUE', ascending = False)\n",
    "import_country.head(20)"
   ]
  },
  {
   "cell_type": "code",
   "execution_count": 14,
   "metadata": {},
   "outputs": [
    {
     "data": {
      "text/plain": [
       "<matplotlib.axes._subplots.AxesSubplot at 0x2835dfb2208>"
      ]
     },
     "execution_count": 14,
     "metadata": {},
     "output_type": "execute_result"
    },
    {
     "data": {
      "image/png": "[encoded data removed]",
      "text/plain": [
       "<Figure size 432x288 with 1 Axes>"
      ]
     },
     "metadata": {
      "needs_background": "light"
     },
     "output_type": "display_data"
    }
   ],
   "source": [
    "import_country_5 = import_country.head()\n",
    "import_country_5.plot(kind = 'bar')"
   ]
  },
  {
   "cell_type": "code",
   "execution_count": 15,
   "metadata": {},
   "outputs": [
    {
     "data": {
      "text/plain": [
       "<matplotlib.axes._subplots.AxesSubplot at 0x2835e297898>"
      ]
     },
     "execution_count": 15,
     "metadata": {},
     "output_type": "execute_result"
    },
    {
     "data": {
      "image/png": "[encoded data removed]",
      "text/plain": [
       "<Figure size 432x288 with 1 Axes>"
      ]
     },
     "metadata": {
      "needs_background": "light"
     },
     "output_type": "display_data"
    }
   ],
   "source": [
    "export_country = export_data.groupby('COUNTRY').agg({'VALUE':'sum'}).sort_values(by='VALUE',ascending=False)\n",
    "export_country_5 = export_country.head()\n",
    "export_country_5.plot(kind='bar')"
   ]
  },
  {
   "cell_type": "markdown",
   "metadata": {},
   "source": [
    "### What are the top commodities we are trading?"
   ]
  },
  {
   "cell_type": "code",
   "execution_count": 16,
   "metadata": {},
   "outputs": [],
   "source": [
    "import_commodity_5 = import_data.groupby('COMMODITY').agg({'VALUE':'sum'}).sort_values(by='VALUE',ascending = False)\n"
   ]
  },
  {
   "cell_type": "code",
   "execution_count": 18,
   "metadata": {},
   "outputs": [
    {
     "data": {
      "text/plain": [
       "<matplotlib.axes._subplots.AxesSubplot at 0x2835e400780>"
      ]
     },
     "execution_count": 18,
     "metadata": {},
     "output_type": "execute_result"
    },
    {
     "data": {
      "image/png": "[encoded data removed]",
      "text/plain": [
       "<Figure size 432x288 with 1 Axes>"
      ]
     },
     "metadata": {
      "needs_background": "light"
     },
     "output_type": "display_data"
    }
   ],
   "source": [
    "import_commodity_5.head().plot(kind='barh')"
   ]
  },
  {
   "cell_type": "code",
   "execution_count": 19,
   "metadata": {},
   "outputs": [
    {
     "data": {
      "text/plain": [
       "<matplotlib.axes._subplots.AxesSubplot at 0x2835e727ba8>"
      ]
     },
     "execution_count": 19,
     "metadata": {},
     "output_type": "execute_result"
    },
    {
     "data": {
      "image/png": "[encoded data removed]",
      "text/plain": [
       "<Figure size 432x288 with 1 Axes>"
      ]
     },
     "metadata": {
      "needs_background": "light"
     },
     "output_type": "display_data"
    }
   ],
   "source": [
    "export_data.groupby('COMMODITY').agg({'VALUE':'sum'}).sort_values(by='VALUE', ascending = False).head().plot(kind='bar')"
   ]
  },
  {
   "cell_type": "markdown",
   "metadata": {},
   "source": [
    "### What has our volume of trading looked like over the years?\n"
   ]
  },
  {
   "cell_type": "code",
   "execution_count": 20,
   "metadata": {},
   "outputs": [
    {
     "data": {
      "text/plain": [
       "<matplotlib.axes._subplots.AxesSubplot at 0x2835e8e02b0>"
      ]
     },
     "execution_count": 20,
     "metadata": {},
     "output_type": "execute_result"
    },
    {
     "data": {
      "image/png": "[encoded data removed]",
      "text/plain": [
       "<Figure size 432x288 with 1 Axes>"
      ]
     },
     "metadata": {
      "needs_background": "light"
     },
     "output_type": "display_data"
    }
   ],
   "source": [
    "import_data.groupby('YEAR').agg({'VALUE':'sum'}).sort_values(by='YEAR').plot(kind='bar', ylim=(0,600000),color = 'green')"
   ]
  },
  {
   "cell_type": "code",
   "execution_count": 21,
   "metadata": {},
   "outputs": [
    {
     "data": {
      "text/plain": [
       "<matplotlib.axes._subplots.AxesSubplot at 0x2835e8bfd30>"
      ]
     },
     "execution_count": 21,
     "metadata": {},
     "output_type": "execute_result"
    },
    {
     "data": {
      "image/png": "[encoded data removed]",
      "text/plain": [
       "<Figure size 432x288 with 1 Axes>"
      ]
     },
     "metadata": {
      "needs_background": "light"
     },
     "output_type": "display_data"
    }
   ],
   "source": [
    "export_data.groupby('YEAR').agg({'VALUE':'sum'}).sort_values('VALUE').plot(kind = 'bar', color='black')"
   ]
  },
  {
   "cell_type": "markdown",
   "metadata": {},
   "source": [
    "### Have we been in deficit or surplus?"
   ]
  },
  {
   "cell_type": "code",
   "execution_count": 23,
   "metadata": {},
   "outputs": [],
   "source": [
    "import_year = import_data.groupby('YEAR').agg({'VALUE':'sum'}).sort_values(by='YEAR')\n",
    "export_year = export_data.groupby('YEAR').agg({'VALUE':'sum'}).sort_values('VALUE')\n",
    "trade = export_year - import_year"
   ]
  },
  {
   "cell_type": "code",
   "execution_count": 24,
   "metadata": {},
   "outputs": [
    {
     "data": {
      "text/plain": [
       "<matplotlib.axes._subplots.AxesSubplot at 0x2835efac6d8>"
      ]
     },
     "execution_count": 24,
     "metadata": {},
     "output_type": "execute_result"
    },
    {
     "data": {
      "image/png": "[encoded data removed]",
      "text/plain": [
       "<Figure size 432x288 with 1 Axes>"
      ]
     },
     "metadata": {
      "needs_background": "light"
     },
     "output_type": "display_data"
    }
   ],
   "source": [
    "trade.plot(kind = 'bar')"
   ]
  },
  {
   "cell_type": "code",
   "execution_count": 25,
   "metadata": {},
   "outputs": [],
   "source": [
    "import_country.sort_values(by='COUNTRY', inplace=True)\n",
    "export_country.sort_values(by='COUNTRY', inplace=True)"
   ]
  },
  {
   "cell_type": "code",
   "execution_count": 28,
   "metadata": {},
   "outputs": [],
   "source": [
    "top_commodity_2018 = import_data[import_data['YEAR']==2018].groupby('COMMODITY').agg({'VALUE':'sum'}).sort_values(by='VALUE', ascending = False)"
   ]
  },
  {
   "cell_type": "code",
   "execution_count": 29,
   "metadata": {},
   "outputs": [
    {
     "data": {
      "text/html": [
       "<div>\n",
       "<style scoped>\n",
       "    .dataframe tbody tr th:only-of-type {\n",
       "        vertical-align: middle;\n",
       "    }\n",
       "\n",
       "    .dataframe tbody tr th {\n",
       "        vertical-align: top;\n",
       "    }\n",
       "\n",
       "    .dataframe thead th {\n",
       "        text-align: right;\n",
       "    }\n",
       "</style>\n",
       "<table border=\"1\" class=\"dataframe\">\n",
       "  <thead>\n",
       "    <tr style=\"text-align: right;\">\n",
       "      <th></th>\n",
       "      <th>VALUE</th>\n",
       "    </tr>\n",
       "    <tr>\n",
       "      <th>COMMODITY</th>\n",
       "      <th></th>\n",
       "    </tr>\n",
       "  </thead>\n",
       "  <tbody>\n",
       "    <tr>\n",
       "      <th>MINERAL FUELS, MINERAL OILS AND PRODUCTS OF THEIR DISTILLATION; BITUMINOUS SUBSTANCES; MINERAL WAXES.</th>\n",
       "      <td>167860.72</td>\n",
       "    </tr>\n",
       "    <tr>\n",
       "      <th>NATURAL OR CULTURED PEARLS,PRECIOUS OR SEMIPRECIOUS STONES,PRE.METALS,CLAD WITH PRE.METAL AND ARTCLS THEREOF;IMIT.JEWLRY;COIN.</th>\n",
       "      <td>64712.89</td>\n",
       "    </tr>\n",
       "    <tr>\n",
       "      <th>ELECTRICAL MACHINERY AND EQUIPMENT AND PARTS THEREOF; SOUND RECORDERS AND REPRODUCERS, TELEVISION IMAGE AND SOUND RECORDERS AND REPRODUCERS,AND PARTS.</th>\n",
       "      <td>52045.96</td>\n",
       "    </tr>\n",
       "    <tr>\n",
       "      <th>NUCLEAR REACTORS, BOILERS, MACHINERY AND MECHANICAL APPLIANCES; PARTS THEREOF.</th>\n",
       "      <td>43835.06</td>\n",
       "    </tr>\n",
       "    <tr>\n",
       "      <th>ORGANIC CHEMICALS</th>\n",
       "      <td>22382.64</td>\n",
       "    </tr>\n",
       "  </tbody>\n",
       "</table>\n",
       "</div>"
      ],
      "text/plain": [
       "                                                        VALUE\n",
       "COMMODITY                                                    \n",
       "MINERAL FUELS, MINERAL OILS AND PRODUCTS OF THE...  167860.72\n",
       "NATURAL OR CULTURED PEARLS,PRECIOUS OR SEMIPREC...   64712.89\n",
       "ELECTRICAL MACHINERY AND EQUIPMENT AND PARTS TH...   52045.96\n",
       "NUCLEAR REACTORS, BOILERS, MACHINERY AND MECHAN...   43835.06\n",
       "ORGANIC CHEMICALS                                    22382.64"
      ]
     },
     "execution_count": 29,
     "metadata": {},
     "output_type": "execute_result"
    }
   ],
   "source": [
    "top_commodity_2018.head()"
   ]
  },
  {
   "cell_type": "code",
   "execution_count": null,
   "metadata": {},
   "outputs": [],
   "source": []
  }
 ],
 "metadata": {
  "anaconda-cloud": {},
  "kernelspec": {
   "display_name": "Python 3",
   "language": "python",
   "name": "python3"
  },
  "language_info": {
   "codemirror_mode": {
    "name": "ipython",
    "version": 3
   },
   "file_extension": ".py",
   "mimetype": "text/x-python",
   "name": "python",
   "nbconvert_exporter": "python",
   "pygments_lexer": "ipython3",
   "version": "3.6.7"
  }
 },
 "nbformat": 4,
 "nbformat_minor": 2
}
